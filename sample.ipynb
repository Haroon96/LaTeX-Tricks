{
 "cells": [
  {
   "cell_type": "markdown",
   "id": "8b438b81",
   "metadata": {},
   "source": [
    "## Setup Dependencies"
   ]
  },
  {
   "cell_type": "code",
   "execution_count": null,
   "id": "8fb78fda",
   "metadata": {},
   "outputs": [],
   "source": [
    "!pip install SciencePlots"
   ]
  },
  {
   "cell_type": "code",
   "execution_count": null,
   "id": "724cb799",
   "metadata": {},
   "outputs": [],
   "source": [
    "!wget -q https://raw.githubusercontent.com/Haroon96/latex-macrogen/main/macrogen.py -O macrogen.py"
   ]
  },
  {
   "cell_type": "code",
   "execution_count": null,
   "id": "f728aa29",
   "metadata": {},
   "outputs": [],
   "source": [
    "import matplotlib.pyplot as plt\n",
    "import numpy as np\n",
    "from macrogen import update_macro"
   ]
  },
  {
   "cell_type": "markdown",
   "id": "625b1458",
   "metadata": {},
   "source": [
    "## Styling"
   ]
  },
  {
   "cell_type": "code",
   "execution_count": null,
   "id": "d351a728",
   "metadata": {},
   "outputs": [],
   "source": [
    "tex_fonts = {\n",
    "    # Use LaTeX to write all text\n",
    "    \"text.usetex\": True,\n",
    "#     \"font.family\": \"serif\",\n",
    "    # Use 10pt font in plots, to match 10pt font in document\n",
    "    \"axes.labelsize\": 12,\n",
    "    \"font.size\": 12,\n",
    "    # Make the legend/label fonts a little smaller\n",
    "    \"legend.fontsize\": 12,\n",
    "    \"xtick.labelsize\": 12,\n",
    "    \"ytick.labelsize\": 12\n",
    "}\n",
    "\n",
    "plt.style.use(['science', 'nature'])\n",
    "plt.rcParams.update(tex_fonts)"
   ]
  },
  {
   "cell_type": "code",
   "execution_count": null,
   "id": "4123df40",
   "metadata": {},
   "outputs": [],
   "source": [
    "get_data = lambda : (np.arange(100), np.random.randn(100))"
   ]
  },
  {
   "cell_type": "markdown",
   "id": "b016fcd1",
   "metadata": {},
   "source": [
    "## Simple Plot"
   ]
  },
  {
   "cell_type": "code",
   "execution_count": null,
   "id": "a241885d",
   "metadata": {},
   "outputs": [],
   "source": [
    "x, y = get_data()\n",
    "\n",
    "fig, ax = plt.subplots(dpi=300)\n",
    "\n",
    "ax.plot(x, y, label='random')\n",
    "ax.legend()\n",
    "\n",
    "fig.savefig('plots/simple-plot.pdf', transparent=True, bbox_inches='tight', pad_inches=0, dpi=300)\n",
    "fig.show()"
   ]
  },
  {
   "cell_type": "markdown",
   "id": "aeb17a9b",
   "metadata": {},
   "source": [
    "## Simple Grid Plot"
   ]
  },
  {
   "cell_type": "code",
   "execution_count": null,
   "id": "8ba8073b",
   "metadata": {},
   "outputs": [],
   "source": [
    "x, y = get_data()\n",
    "\n",
    "with plt.style.context('grid'):\n",
    "    fig, ax = plt.subplots(dpi=300)\n",
    "    ax.plot(x, y, label='random')\n",
    "\n",
    "    legend = ax.legend()\n",
    "    legend.set_zorder(1)\n",
    "    legend.get_frame().set_linewidth(0.0)\n",
    "    fig.savefig('plots/simple-grid-plot.pdf', transparent=True, bbox_inches='tight', pad_inches=0, dpi=300)\n",
    "    fig.show()"
   ]
  },
  {
   "cell_type": "markdown",
   "id": "721457fa",
   "metadata": {},
   "source": [
    "## Subplot font scaling"
   ]
  },
  {
   "cell_type": "code",
   "execution_count": null,
   "id": "33103e47",
   "metadata": {},
   "outputs": [],
   "source": [
    "tex_fonts = {\n",
    "    # Use LaTeX to write all text\n",
    "    \"text.usetex\": True,\n",
    "#     \"font.family\": \"serif\",\n",
    "    # Use 10pt font in plots, to match 10pt font in document\n",
    "    \"axes.labelsize\": 12 * (48/24),\n",
    "    \"font.size\": 12 * (48/24),\n",
    "    # Make the legend/label fonts a little smaller\n",
    "    \"legend.fontsize\": 12 * (48/24),\n",
    "    \"xtick.labelsize\": 12 * (48/24),\n",
    "    \"ytick.labelsize\": 12 * (48/24),\n",
    "}\n",
    "\n",
    "plt.rcParams.update(tex_fonts)"
   ]
  },
  {
   "cell_type": "code",
   "execution_count": null,
   "id": "0e4529cb",
   "metadata": {},
   "outputs": [],
   "source": [
    "x, y = get_data()\n",
    "\n",
    "fig, ax = plt.subplots(dpi=300)\n",
    "\n",
    "ax.plot(x, y, label='random')\n",
    "ax.legend()\n",
    "\n",
    "fig.savefig('plots/simple-plot-scaled.pdf', transparent=True, bbox_inches='tight', pad_inches=0, dpi=300)\n",
    "fig.show()"
   ]
  },
  {
   "cell_type": "code",
   "execution_count": null,
   "id": "88ceaf90",
   "metadata": {},
   "outputs": [],
   "source": [
    "x, y = get_data()\n",
    "\n",
    "with plt.style.context('grid'):\n",
    "    fig, ax = plt.subplots(dpi=300)\n",
    "    ax.plot(x, y, label='random')\n",
    "\n",
    "    legend = ax.legend()\n",
    "    legend.set_zorder(1)\n",
    "    legend.get_frame().set_linewidth(0.0)\n",
    "    fig.savefig('plots/simple-grid-plot-scaled.pdf', transparent=True, bbox_inches='tight', pad_inches=0, dpi=300)\n",
    "    fig.show()"
   ]
  },
  {
   "cell_type": "markdown",
   "id": "99726b3a",
   "metadata": {},
   "source": [
    "## Latex Macro Automation"
   ]
  },
  {
   "cell_type": "code",
   "execution_count": null,
   "id": "51cf07c9",
   "metadata": {},
   "outputs": [],
   "source": [
    "for i in 'foo barr fizz buzz'.split():\n",
    "    update_macro(i, np.random.randint(100))"
   ]
  }
 ],
 "metadata": {
  "kernelspec": {
   "display_name": "Python 3 (ipykernel)",
   "language": "python",
   "name": "python3"
  },
  "language_info": {
   "codemirror_mode": {
    "name": "ipython",
    "version": 3
   },
   "file_extension": ".py",
   "mimetype": "text/x-python",
   "name": "python",
   "nbconvert_exporter": "python",
   "pygments_lexer": "ipython3",
   "version": "3.10.4"
  }
 },
 "nbformat": 4,
 "nbformat_minor": 5
}
