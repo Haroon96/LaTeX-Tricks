{
 "cells": [
  {
   "cell_type": "markdown",
   "id": "8b438b81",
   "metadata": {},
   "source": [
    "## Setup Dependencies"
   ]
  },
  {
   "cell_type": "code",
   "execution_count": null,
   "id": "8fb78fda",
   "metadata": {},
   "outputs": [],
   "source": [
    "!pip install SciencePlots"
   ]
  },
  {
   "cell_type": "code",
   "execution_count": null,
   "id": "724cb799",
   "metadata": {},
   "outputs": [],
   "source": [
    "!wget -q https://raw.githubusercontent.com/Haroon96/latex-macrogen/main/macrogen.py -O macrogen.py"
   ]
  },
  {
   "cell_type": "code",
   "execution_count": null,
   "id": "f728aa29",
   "metadata": {},
   "outputs": [],
   "source": [
    "import matplotlib.pyplot as plt\n",
    "import numpy as np\n",
    "from macrogen import update_macro"
   ]
  },
  {
   "cell_type": "markdown",
   "id": "625b1458",
   "metadata": {},
   "source": [
    "## Styling"
   ]
  },
  {
   "cell_type": "code",
   "execution_count": null,
   "id": "d351a728",
   "metadata": {},
   "outputs": [],
   "source": [
    "tex_fonts = {\n",
    "    # Use LaTeX to write all text\n",
    "    \"text.usetex\": True,\n",
    "#     \"font.family\": \"serif\",\n",
    "    # Use 10pt font in plots, to match 10pt font in document\n",
    "    \"axes.labelsize\": 12 * (48/30),\n",
    "    \"font.size\": 12 * (48/30),\n",
    "    # Make the legend/label fonts a little smaller\n",
    "    \"legend.fontsize\": 12 * (48/30),\n",
    "    \"xtick.labelsize\": 12 * (48/30),\n",
    "    \"ytick.labelsize\": 12 * (48/30)\n",
    "}\n",
    "\n",
    "plt.style.use(['science', 'nature'])\n",
    "plt.rcParams.update(tex_fonts)"
   ]
  },
  {
   "cell_type": "code",
   "execution_count": null,
   "id": "4123df40",
   "metadata": {},
   "outputs": [],
   "source": [
    "get_data = lambda : (np.arange(100), np.random.randn(100))"
   ]
  },
  {
   "cell_type": "markdown",
   "id": "b016fcd1",
   "metadata": {},
   "source": [
    "## Subplots"
   ]
  },
  {
   "cell_type": "code",
   "execution_count": null,
   "id": "49e5912d",
   "metadata": {},
   "outputs": [],
   "source": [
    "def export_legend(ax, filename=\"legend.pdf\"):\n",
    "    fig2 = plt.figure()\n",
    "    ax2 = fig2.add_subplot()\n",
    "    ax2.axis('off')\n",
    "    legend = ax2.legend(*ax.get_legend_handles_labels(), frameon=False, loc='lower center', ncol=10,)\n",
    "    fig  = legend.figure\n",
    "    fig.canvas.draw()\n",
    "    bbox  = legend.get_window_extent().transformed(fig.dpi_scale_trans.inverted())\n",
    "    fig.savefig(filename, dpi=\"figure\", bbox_inches=bbox)"
   ]
  },
  {
   "cell_type": "code",
   "execution_count": null,
   "id": "0d6ad583",
   "metadata": {},
   "outputs": [],
   "source": [
    "def create_plot(ind):\n",
    "\n",
    "    fig, ax = plt.subplots(dpi=300)\n",
    "\n",
    "    for i in range(3):\n",
    "        x, y = get_data()\n",
    "        ax.plot(x, y, label='random-%s' % i)\n",
    "\n",
    "    ax.set_xlabel('x-axis')\n",
    "    ax.set_ylabel('y-axis')\n",
    "    \n",
    "    export_legend(ax, filename=\"plots/legend.pdf\")\n",
    "\n",
    "    fig.tight_layout()\n",
    "    fig.savefig('plots/subplot%s.pdf' % ind, transparent=True, bbox_inches='tight', pad_inches=0, dpi=300)"
   ]
  },
  {
   "cell_type": "code",
   "execution_count": null,
   "id": "1a595190",
   "metadata": {
    "scrolled": false
   },
   "outputs": [],
   "source": [
    "for ind in range(5):\n",
    "    create_plot(ind)"
   ]
  },
  {
   "cell_type": "code",
   "execution_count": null,
   "id": "30058dc4",
   "metadata": {},
   "outputs": [],
   "source": []
  }
 ],
 "metadata": {
  "kernelspec": {
   "display_name": "Python 3 (ipykernel)",
   "language": "python",
   "name": "python3"
  },
  "language_info": {
   "codemirror_mode": {
    "name": "ipython",
    "version": 3
   },
   "file_extension": ".py",
   "mimetype": "text/x-python",
   "name": "python",
   "nbconvert_exporter": "python",
   "pygments_lexer": "ipython3",
   "version": "3.10.4"
  }
 },
 "nbformat": 4,
 "nbformat_minor": 5
}
